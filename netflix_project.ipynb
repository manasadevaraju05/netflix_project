{
 "cells": [
  {
   "cell_type": "code",
   "execution_count": 67,
   "id": "ec098b89-c6d7-47f9-b120-b3a49fc4cd7f",
   "metadata": {},
   "outputs": [
    {
     "name": "stderr",
     "output_type": "stream",
     "text": [
      "Matplotlib is building the font cache; this may take a moment.\n"
     ]
    }
   ],
   "source": [
    "import pandas as pd\n",
    "import matplotlib.pyplot as plt"
   ]
  },
  {
   "cell_type": "code",
   "execution_count": 12,
   "id": "5c47edd0-1cb2-460a-8724-07bf799113d7",
   "metadata": {},
   "outputs": [
    {
     "name": "stdout",
     "output_type": "stream",
     "text": [
      "csv file 'netflix_data.csv', created successfully!\n"
     ]
    }
   ],
   "source": [
    "data = {\n",
    "    \"show_id\" : [\"s1\", \"s2\", \"s3\", \"s4\"],\n",
    "    \"type\" : [\"Movie\", \"TV show\", \"Movie\", \"Movie\"],\n",
    "    \"title\": [\"Inception\", \"Stranger Things\", \"Parasite\", \"Interstellar\"],\n",
    "    \"director\": [\"Christopher Nolan\", \"Duffer Brothers\", \"Bong Joon Ho\", \"Christopher Nolan\"],\n",
    "    \"cast\": [\"Leonardo DiCaprio, Ellen Page\", \"Winona Ryder, Millie Bobby Brown\",\n",
    "             \"Song Kang Ho, Lee Sun Kyun\", \"Matthew McConaughey, Anne Hathaway\"],\n",
    "    \"country\": [\"USA\", \"USA\", \"South Korea\", \"USA\"],\n",
    "     \"date_added\": [\"2020-01-01\", \"2019-07-15\", \"2021-02-14\", \"2014-12-20\"],\n",
    "     \"release_year\": [2010, 2016, 2019, 2014],\n",
    "    \"rating\": [\"PG-13\", \"TV-14\", \"R\", \"PG-13\"],\n",
    "    \"duration\": [\"148 min\", \"3 Seasons\", \"132 min\", \"169 min\"],\n",
    "    \"genre\": [\"Sci-Fi, Thriller\", \"Horror, Sci-Fi\", \"Drama, Thriller\", \"Sci-Fi, Adventure\"],\n",
    "    \"description\": [\"A thief enters dreams to steal secrets\", \n",
    "                    \"Kids discover a mysterious world\",\n",
    "                    \"A poor family infiltrates a rich family\", \n",
    "                    \"A team travels through a wormhole\"]\n",
    "    }\n",
    "\n",
    "df = pd.DataFrame(data)\n",
    "df.to_csv(\"netflix_data.csv\", index= False)\n",
    "print(\"csv file 'netflix_data.csv', created successfully!\")"
   ]
  },
  {
   "cell_type": "code",
   "execution_count": 14,
   "id": "3855bf8e-9e70-4c6e-bed8-c75369ae7af4",
   "metadata": {},
   "outputs": [],
   "source": [
    "df = pd.read_csv(\"netflix_data.csv\")"
   ]
  },
  {
   "cell_type": "code",
   "execution_count": 16,
   "id": "2c3f167e-9d2c-4432-927c-37cdc0035dfe",
   "metadata": {},
   "outputs": [
    {
     "data": {
      "text/html": [
       "<div>\n",
       "<style scoped>\n",
       "    .dataframe tbody tr th:only-of-type {\n",
       "        vertical-align: middle;\n",
       "    }\n",
       "\n",
       "    .dataframe tbody tr th {\n",
       "        vertical-align: top;\n",
       "    }\n",
       "\n",
       "    .dataframe thead th {\n",
       "        text-align: right;\n",
       "    }\n",
       "</style>\n",
       "<table border=\"1\" class=\"dataframe\">\n",
       "  <thead>\n",
       "    <tr style=\"text-align: right;\">\n",
       "      <th></th>\n",
       "      <th>show_id</th>\n",
       "      <th>type</th>\n",
       "      <th>title</th>\n",
       "      <th>director</th>\n",
       "      <th>cast</th>\n",
       "      <th>country</th>\n",
       "      <th>date_added</th>\n",
       "      <th>release_year</th>\n",
       "      <th>rating</th>\n",
       "      <th>duration</th>\n",
       "      <th>genre</th>\n",
       "      <th>description</th>\n",
       "    </tr>\n",
       "  </thead>\n",
       "  <tbody>\n",
       "    <tr>\n",
       "      <th>0</th>\n",
       "      <td>s1</td>\n",
       "      <td>Movie</td>\n",
       "      <td>Inception</td>\n",
       "      <td>Christopher Nolan</td>\n",
       "      <td>Leonardo DiCaprio, Ellen Page</td>\n",
       "      <td>USA</td>\n",
       "      <td>2020-01-01</td>\n",
       "      <td>2010</td>\n",
       "      <td>PG-13</td>\n",
       "      <td>148 min</td>\n",
       "      <td>Sci-Fi, Thriller</td>\n",
       "      <td>A thief enters dreams to steal secrets</td>\n",
       "    </tr>\n",
       "    <tr>\n",
       "      <th>1</th>\n",
       "      <td>s2</td>\n",
       "      <td>TV show</td>\n",
       "      <td>Stranger Things</td>\n",
       "      <td>Duffer Brothers</td>\n",
       "      <td>Winona Ryder, Millie Bobby Brown</td>\n",
       "      <td>USA</td>\n",
       "      <td>2019-07-15</td>\n",
       "      <td>2016</td>\n",
       "      <td>TV-14</td>\n",
       "      <td>3 Seasons</td>\n",
       "      <td>Horror, Sci-Fi</td>\n",
       "      <td>Kids discover a mysterious world</td>\n",
       "    </tr>\n",
       "    <tr>\n",
       "      <th>2</th>\n",
       "      <td>s3</td>\n",
       "      <td>Movie</td>\n",
       "      <td>Parasite</td>\n",
       "      <td>Bong Joon Ho</td>\n",
       "      <td>Song Kang Ho, Lee Sun Kyun</td>\n",
       "      <td>South Korea</td>\n",
       "      <td>2021-02-14</td>\n",
       "      <td>2019</td>\n",
       "      <td>R</td>\n",
       "      <td>132 min</td>\n",
       "      <td>Drama, Thriller</td>\n",
       "      <td>A poor family infiltrates a rich family</td>\n",
       "    </tr>\n",
       "    <tr>\n",
       "      <th>3</th>\n",
       "      <td>s4</td>\n",
       "      <td>Movie</td>\n",
       "      <td>Interstellar</td>\n",
       "      <td>Christopher Nolan</td>\n",
       "      <td>Matthew McConaughey, Anne Hathaway</td>\n",
       "      <td>USA</td>\n",
       "      <td>2014-12-20</td>\n",
       "      <td>2014</td>\n",
       "      <td>PG-13</td>\n",
       "      <td>169 min</td>\n",
       "      <td>Sci-Fi, Adventure</td>\n",
       "      <td>A team travels through a wormhole</td>\n",
       "    </tr>\n",
       "  </tbody>\n",
       "</table>\n",
       "</div>"
      ],
      "text/plain": [
       "  show_id     type            title           director  \\\n",
       "0      s1    Movie        Inception  Christopher Nolan   \n",
       "1      s2  TV show  Stranger Things    Duffer Brothers   \n",
       "2      s3    Movie         Parasite       Bong Joon Ho   \n",
       "3      s4    Movie     Interstellar  Christopher Nolan   \n",
       "\n",
       "                                 cast      country  date_added  release_year  \\\n",
       "0       Leonardo DiCaprio, Ellen Page          USA  2020-01-01          2010   \n",
       "1    Winona Ryder, Millie Bobby Brown          USA  2019-07-15          2016   \n",
       "2          Song Kang Ho, Lee Sun Kyun  South Korea  2021-02-14          2019   \n",
       "3  Matthew McConaughey, Anne Hathaway          USA  2014-12-20          2014   \n",
       "\n",
       "  rating   duration              genre  \\\n",
       "0  PG-13    148 min   Sci-Fi, Thriller   \n",
       "1  TV-14  3 Seasons     Horror, Sci-Fi   \n",
       "2      R    132 min    Drama, Thriller   \n",
       "3  PG-13    169 min  Sci-Fi, Adventure   \n",
       "\n",
       "                               description  \n",
       "0   A thief enters dreams to steal secrets  \n",
       "1         Kids discover a mysterious world  \n",
       "2  A poor family infiltrates a rich family  \n",
       "3        A team travels through a wormhole  "
      ]
     },
     "execution_count": 16,
     "metadata": {},
     "output_type": "execute_result"
    }
   ],
   "source": [
    "df.head()"
   ]
  },
  {
   "cell_type": "code",
   "execution_count": 20,
   "id": "cdec865d-8677-4295-8237-78cc3184327b",
   "metadata": {},
   "outputs": [
    {
     "name": "stdout",
     "output_type": "stream",
     "text": [
      "<class 'pandas.core.frame.DataFrame'>\n",
      "RangeIndex: 4 entries, 0 to 3\n",
      "Data columns (total 12 columns):\n",
      " #   Column        Non-Null Count  Dtype \n",
      "---  ------        --------------  ----- \n",
      " 0   show_id       4 non-null      object\n",
      " 1   type          4 non-null      object\n",
      " 2   title         4 non-null      object\n",
      " 3   director      4 non-null      object\n",
      " 4   cast          4 non-null      object\n",
      " 5   country       4 non-null      object\n",
      " 6   date_added    4 non-null      object\n",
      " 7   release_year  4 non-null      int64 \n",
      " 8   rating        4 non-null      object\n",
      " 9   duration      4 non-null      object\n",
      " 10  genre         4 non-null      object\n",
      " 11  description   4 non-null      object\n",
      "dtypes: int64(1), object(11)\n",
      "memory usage: 516.0+ bytes\n"
     ]
    }
   ],
   "source": [
    "df.info()"
   ]
  },
  {
   "cell_type": "code",
   "execution_count": 22,
   "id": "15eda1c0-8168-45fb-8e6e-b5b7d78972e9",
   "metadata": {},
   "outputs": [
    {
     "data": {
      "text/plain": [
       "4"
      ]
     },
     "execution_count": 22,
     "metadata": {},
     "output_type": "execute_result"
    }
   ],
   "source": [
    "df[\"genre\"].nunique()"
   ]
  },
  {
   "cell_type": "code",
   "execution_count": 26,
   "id": "d58bb328-17d2-459d-ae9a-be7bf2e8bd02",
   "metadata": {},
   "outputs": [
    {
     "data": {
      "text/plain": [
       "type\n",
       "Movie      3\n",
       "TV show    1\n",
       "Name: count, dtype: int64"
      ]
     },
     "execution_count": 26,
     "metadata": {},
     "output_type": "execute_result"
    }
   ],
   "source": [
    "df[\"type\"].value_counts()"
   ]
  },
  {
   "cell_type": "code",
   "execution_count": 37,
   "id": "bd72f88e-979e-4fef-ad7b-ff47055fd2f1",
   "metadata": {},
   "outputs": [
    {
     "data": {
      "text/plain": [
       "show_id         0\n",
       "type            0\n",
       "title           0\n",
       "director        0\n",
       "cast            0\n",
       "country         0\n",
       "date_added      0\n",
       "release_year    0\n",
       "rating          0\n",
       "duration        0\n",
       "genre           0\n",
       "description     0\n",
       "dtype: int64"
      ]
     },
     "execution_count": 37,
     "metadata": {},
     "output_type": "execute_result"
    }
   ],
   "source": [
    "df.isnull().sum()"
   ]
  },
  {
   "cell_type": "code",
   "execution_count": 39,
   "id": "1c8cc0d6-4d5c-441d-8591-7e28d6f54f3a",
   "metadata": {},
   "outputs": [],
   "source": [
    "df[\"date_added\"] = df[\"date_added\"] = pd.to_datetime(df[\"date_added\"])"
   ]
  },
  {
   "cell_type": "code",
   "execution_count": 41,
   "id": "5d5df0db-9c25-41da-9bb3-731e22c168f0",
   "metadata": {},
   "outputs": [],
   "source": [
    "df[\"release_year\"] = df[\"release_year\"].astype(int)"
   ]
  },
  {
   "cell_type": "code",
   "execution_count": 43,
   "id": "f1cf1146-d4df-44b3-84bf-a6c173f40b4e",
   "metadata": {},
   "outputs": [],
   "source": [
    "df.drop_duplicates(inplace=True)"
   ]
  },
  {
   "cell_type": "code",
   "execution_count": 47,
   "id": "4bafed6b-70a9-4452-afe5-0c937f80d09a",
   "metadata": {},
   "outputs": [],
   "source": [
    "top_directors = df[\"director\"].value_counts().head(5)"
   ]
  },
  {
   "cell_type": "code",
   "execution_count": 49,
   "id": "390d903d-380d-47bc-9c89-0574aaa43877",
   "metadata": {},
   "outputs": [
    {
     "name": "stdout",
     "output_type": "stream",
     "text": [
      "director\n",
      "Christopher Nolan    2\n",
      "Duffer Brothers      1\n",
      "Bong Joon Ho         1\n",
      "Name: count, dtype: int64\n"
     ]
    }
   ],
   "source": [
    "print(top_directors)"
   ]
  },
  {
   "cell_type": "code",
   "execution_count": 51,
   "id": "e25d3ef7-4df8-48dc-b5da-4b60f4b6d224",
   "metadata": {},
   "outputs": [
    {
     "data": {
      "text/plain": [
       "type\n",
       "Movie      3\n",
       "TV show    1\n",
       "Name: count, dtype: int64"
      ]
     },
     "execution_count": 51,
     "metadata": {},
     "output_type": "execute_result"
    }
   ],
   "source": [
    "df[\"type\"].value_counts()"
   ]
  },
  {
   "cell_type": "code",
   "execution_count": 53,
   "id": "94afa583-14db-46da-8560-a85907f4a64e",
   "metadata": {},
   "outputs": [
    {
     "name": "stdout",
     "output_type": "stream",
     "text": [
      "<class 'pandas.core.frame.DataFrame'>\n",
      "RangeIndex: 4 entries, 0 to 3\n",
      "Data columns (total 12 columns):\n",
      " #   Column        Non-Null Count  Dtype         \n",
      "---  ------        --------------  -----         \n",
      " 0   show_id       4 non-null      object        \n",
      " 1   type          4 non-null      object        \n",
      " 2   title         4 non-null      object        \n",
      " 3   director      4 non-null      object        \n",
      " 4   cast          4 non-null      object        \n",
      " 5   country       4 non-null      object        \n",
      " 6   date_added    4 non-null      datetime64[ns]\n",
      " 7   release_year  4 non-null      int64         \n",
      " 8   rating        4 non-null      object        \n",
      " 9   duration      4 non-null      object        \n",
      " 10  genre         4 non-null      object        \n",
      " 11  description   4 non-null      object        \n",
      "dtypes: datetime64[ns](1), int64(1), object(10)\n",
      "memory usage: 516.0+ bytes\n"
     ]
    }
   ],
   "source": [
    "df.info()"
   ]
  },
  {
   "cell_type": "code",
   "execution_count": 57,
   "id": "09746a69-8424-4eee-8883-1638a1e45b25",
   "metadata": {},
   "outputs": [],
   "source": [
    "top_countries = df[\"country\"].value_counts().head(5)"
   ]
  },
  {
   "cell_type": "code",
   "execution_count": 59,
   "id": "08deedcd-7dec-4d3b-bfaf-5dd19ce07a36",
   "metadata": {},
   "outputs": [
    {
     "name": "stdout",
     "output_type": "stream",
     "text": [
      "country\n",
      "USA            3\n",
      "South Korea    1\n",
      "Name: count, dtype: int64\n"
     ]
    }
   ],
   "source": [
    "print(top_countries)"
   ]
  },
  {
   "cell_type": "code",
   "execution_count": 63,
   "id": "c168e868-d9ac-4751-90a1-390327881dc1",
   "metadata": {},
   "outputs": [],
   "source": [
    "average_duration = df[df[\"type\"] == \"movie\"][\"duration\"].mean()"
   ]
  },
  {
   "cell_type": "code",
   "execution_count": 65,
   "id": "2a056573-e27f-4b25-893c-6dbdda569a0f",
   "metadata": {},
   "outputs": [
    {
     "name": "stdout",
     "output_type": "stream",
     "text": [
      "Average movie duration: nan minutes\n"
     ]
    }
   ],
   "source": [
    "print(f\"Average movie duration: {average_duration} minutes\")"
   ]
  },
  {
   "cell_type": "code",
   "execution_count": 69,
   "id": "86cbd093-3ada-4784-a8e4-83cac24bd036",
   "metadata": {},
   "outputs": [
    {
     "data": {
      "text/plain": [
       "<Axes: title={'center': 'movies vs TV shows'}, xlabel='type'>"
      ]
     },
     "execution_count": 69,
     "metadata": {},
     "output_type": "execute_result"
    },
    {
     "data": {
      "image/png": "[encoded data removed]",
      "text/plain": [
       "<Figure size 640x480 with 1 Axes>"
      ]
     },
     "metadata": {},
     "output_type": "display_data"
    }
   ],
   "source": [
    "df[\"type\"].value_counts().plot(kind=\"bar\", title=\"movies vs TV shows\")"
   ]
  },
  {
   "cell_type": "code",
   "execution_count": 75,
   "id": "7598c73a-f1ad-4b22-8cc0-8e458af4cd1c",
   "metadata": {},
   "outputs": [],
   "source": [
    "plt.show()"
   ]
  },
  {
   "cell_type": "code",
   "execution_count": null,
   "id": "8932e5d9-1567-4872-9533-b52ee3b4d780",
   "metadata": {},
   "outputs": [],
   "source": []
  }
 ],
 "metadata": {
  "kernelspec": {
   "display_name": "Python [conda env:base] *",
   "language": "python",
   "name": "conda-base-py"
  },
  "language_info": {
   "codemirror_mode": {
    "name": "ipython",
    "version": 3
   },
   "file_extension": ".py",
   "mimetype": "text/x-python",
   "name": "python",
   "nbconvert_exporter": "python",
   "pygments_lexer": "ipython3",
   "version": "3.12.7"
  }
 },
 "nbformat": 4,
 "nbformat_minor": 5
}
