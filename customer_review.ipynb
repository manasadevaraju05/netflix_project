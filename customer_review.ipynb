{
 "cells": [
  {
   "cell_type": "code",
   "execution_count": 15,
   "id": "6cea2a99-417a-4a31-afa0-e21169e7da22",
   "metadata": {},
   "outputs": [],
   "source": [
    "import pandas as pd\n",
    "import sqlite3\n",
    "import matplotlib.pyplot as plt\n",
    "import seaborn as sns"
   ]
  },
  {
   "cell_type": "code",
   "execution_count": 3,
   "id": "ed498a3b-e6dd-4993-91b2-170bb8fc0bb1",
   "metadata": {},
   "outputs": [
    {
     "name": "stdout",
     "output_type": "stream",
     "text": [
      "CSV files created successfully!\n"
     ]
    }
   ],
   "source": [
    "# Create Customer Sales data\n",
    "sales_data = {  \n",
    "    \"OrderID\": [1001, 1002, 1003, 1004, 1005, 1006, 1007, 1008, 1009, 1010],  \n",
    "    \"Product\": [\"Laptop\", \"Phone\", \"Tablet\", \"Headphones\", \"Laptop\", \"Phone\", \"Tablet\", \"Laptop\", \"Headphones\", \"Phone\"],  \n",
    "    \"CustomerID\": [\"C001\", \"C002\", \"C003\", \"C004\", \"C005\", \"C006\", \"C007\", \"C008\", \"C009\", \"C010\"],  \n",
    "    \"Region\": [\"Berlin\", \"Munich\", \"Hamburg\", \"Berlin\", \"Frankfurt\", \"Munich\", \"Berlin\", \"Hamburg\", \"Frankfurt\", \"Berlin\"],  \n",
    "    \"SalesAmount\": [1200, 800, 600, 150, 1300, 850, 620, 1400, 160, 750],  \n",
    "    \"Quantity\": [1, 2, 1, 3, 1, 2, 1, 1, 3, 1],  \n",
    "    \"OrderDate\": [\"2023-01-15\", \"2023-02-20\", \"2023-03-10\", \"2023-03-25\", \"2023-04-05\", \"2023-05-12\", \"2023-06-14\", \"2023-07-19\", \"2023-08-05\", \"2023-09-10\"]  \n",
    "}  \n",
    "sales_df = pd.DataFrame(sales_data)  \n",
    "sales_df.to_csv(\"sales_data.csv\", index=False)  \n",
    "\n",
    "# Create Customer Reviews Data  \n",
    "reviews_data = {  \n",
    "    \"ReviewID\": [\"R001\", \"R002\", \"R003\", \"R004\", \"R005\", \"R006\", \"R007\", \"R008\", \"R009\", \"R010\"],  \n",
    "    \"CustomerID\": [\"C001\", \"C002\", \"C003\", \"C004\", \"C005\", \"C006\", \"C007\", \"C008\", \"C009\", \"C010\"],  \n",
    "    \"Product\": [\"Laptop\", \"Phone\", \"Tablet\", \"Headphones\", \"Laptop\", \"Phone\", \"Tablet\", \"Laptop\", \"Headphones\", \"Phone\"],  \n",
    "    \"Rating\": [5, 4, 3, 5, 4, 3, 4, 5, 2, 4],  \n",
    "    \"ReviewText\": [\"Amazing performance!\", \"Good but battery is weak.\", \"Decent for the price.\", \"Sound quality is great.\", \"Very fast but expensive.\", \"Camera is okay, not great.\", \"Sleek design, works well.\", \"Best laptop I've ever owned.\", \"Bass is too high, not clear.\", \"Good value for money.\"],  \n",
    "    \"ReviewDate\": [\"2023-01-16\", \"2023-02-21\", \"2023-03-11\", \"2023-03-26\", \"2023-04-06\", \"2023-05-13\", \"2023-06-15\", \"2023-07-20\", \"2023-08-06\", \"2023-09-11\"] \n",
    "}  \n",
    "reviews_df = pd.DataFrame(reviews_data)  \n",
    "reviews_df.to_csv(\"customer_reviews.csv\", index=False)  \n",
    "\n",
    "print(\"CSV files created successfully!\")"
   ]
  },
  {
   "cell_type": "code",
   "execution_count": 5,
   "id": "3139bd09-4d08-4b29-873d-67b4049bbd0c",
   "metadata": {},
   "outputs": [
    {
     "name": "stdout",
     "output_type": "stream",
     "text": [
      "<class 'pandas.core.frame.DataFrame'>\n",
      "RangeIndex: 10 entries, 0 to 9\n",
      "Data columns (total 7 columns):\n",
      " #   Column       Non-Null Count  Dtype \n",
      "---  ------       --------------  ----- \n",
      " 0   OrderID      10 non-null     int64 \n",
      " 1   Product      10 non-null     object\n",
      " 2   CustomerID   10 non-null     object\n",
      " 3   Region       10 non-null     object\n",
      " 4   SalesAmount  10 non-null     int64 \n",
      " 5   Quantity     10 non-null     int64 \n",
      " 6   OrderDate    10 non-null     object\n",
      "dtypes: int64(3), object(4)\n",
      "memory usage: 692.0+ bytes\n"
     ]
    }
   ],
   "source": [
    "sales_df.info()"
   ]
  },
  {
   "cell_type": "code",
   "execution_count": 7,
   "id": "00eb8c52-c444-4b17-8b17-892668c012fc",
   "metadata": {},
   "outputs": [
    {
     "data": {
      "text/plain": [
       "'   OrderID     Product CustomerID     Region  SalesAmount  Quantity   OrderDate\\n0     1001      Laptop       C001     Berlin         1200         1  2023-01-15\\n1     1002       Phone       C002     Munich          800         2  2023-02-20\\n2     1003      Tablet       C003    Hamburg          600         1  2023-03-10\\n3     1004  Headphones       C004     Berlin          150         3  2023-03-25\\n4     1005      Laptop       C005  Frankfurt         1300         1  2023-04-05\\n5     1006       Phone       C006     Munich          850         2  2023-05-12\\n6     1007      Tablet       C007     Berlin          620         1  2023-06-14\\n7     1008      Laptop       C008    Hamburg         1400         1  2023-07-19\\n8     1009  Headphones       C009  Frankfurt          160         3  2023-08-05\\n9     1010       Phone       C010     Berlin          750         1  2023-09-10'"
      ]
     },
     "execution_count": 7,
     "metadata": {},
     "output_type": "execute_result"
    }
   ],
   "source": [
    "sales_df.to_string()"
   ]
  },
  {
   "cell_type": "code",
   "execution_count": 9,
   "id": "be645626-4535-4c86-94de-84a6701dc015",
   "metadata": {},
   "outputs": [
    {
     "data": {
      "text/html": [
       "<div>\n",
       "<style scoped>\n",
       "    .dataframe tbody tr th:only-of-type {\n",
       "        vertical-align: middle;\n",
       "    }\n",
       "\n",
       "    .dataframe tbody tr th {\n",
       "        vertical-align: top;\n",
       "    }\n",
       "\n",
       "    .dataframe thead th {\n",
       "        text-align: right;\n",
       "    }\n",
       "</style>\n",
       "<table border=\"1\" class=\"dataframe\">\n",
       "  <thead>\n",
       "    <tr style=\"text-align: right;\">\n",
       "      <th></th>\n",
       "      <th>OrderID</th>\n",
       "      <th>Product</th>\n",
       "      <th>CustomerID</th>\n",
       "      <th>Region</th>\n",
       "      <th>SalesAmount</th>\n",
       "      <th>Quantity</th>\n",
       "      <th>OrderDate</th>\n",
       "    </tr>\n",
       "  </thead>\n",
       "  <tbody>\n",
       "    <tr>\n",
       "      <th>0</th>\n",
       "      <td>1001</td>\n",
       "      <td>Laptop</td>\n",
       "      <td>C001</td>\n",
       "      <td>Berlin</td>\n",
       "      <td>1200</td>\n",
       "      <td>1</td>\n",
       "      <td>2023-01-15</td>\n",
       "    </tr>\n",
       "    <tr>\n",
       "      <th>1</th>\n",
       "      <td>1002</td>\n",
       "      <td>Phone</td>\n",
       "      <td>C002</td>\n",
       "      <td>Munich</td>\n",
       "      <td>800</td>\n",
       "      <td>2</td>\n",
       "      <td>2023-02-20</td>\n",
       "    </tr>\n",
       "    <tr>\n",
       "      <th>2</th>\n",
       "      <td>1003</td>\n",
       "      <td>Tablet</td>\n",
       "      <td>C003</td>\n",
       "      <td>Hamburg</td>\n",
       "      <td>600</td>\n",
       "      <td>1</td>\n",
       "      <td>2023-03-10</td>\n",
       "    </tr>\n",
       "    <tr>\n",
       "      <th>3</th>\n",
       "      <td>1004</td>\n",
       "      <td>Headphones</td>\n",
       "      <td>C004</td>\n",
       "      <td>Berlin</td>\n",
       "      <td>150</td>\n",
       "      <td>3</td>\n",
       "      <td>2023-03-25</td>\n",
       "    </tr>\n",
       "    <tr>\n",
       "      <th>4</th>\n",
       "      <td>1005</td>\n",
       "      <td>Laptop</td>\n",
       "      <td>C005</td>\n",
       "      <td>Frankfurt</td>\n",
       "      <td>1300</td>\n",
       "      <td>1</td>\n",
       "      <td>2023-04-05</td>\n",
       "    </tr>\n",
       "    <tr>\n",
       "      <th>5</th>\n",
       "      <td>1006</td>\n",
       "      <td>Phone</td>\n",
       "      <td>C006</td>\n",
       "      <td>Munich</td>\n",
       "      <td>850</td>\n",
       "      <td>2</td>\n",
       "      <td>2023-05-12</td>\n",
       "    </tr>\n",
       "    <tr>\n",
       "      <th>6</th>\n",
       "      <td>1007</td>\n",
       "      <td>Tablet</td>\n",
       "      <td>C007</td>\n",
       "      <td>Berlin</td>\n",
       "      <td>620</td>\n",
       "      <td>1</td>\n",
       "      <td>2023-06-14</td>\n",
       "    </tr>\n",
       "    <tr>\n",
       "      <th>7</th>\n",
       "      <td>1008</td>\n",
       "      <td>Laptop</td>\n",
       "      <td>C008</td>\n",
       "      <td>Hamburg</td>\n",
       "      <td>1400</td>\n",
       "      <td>1</td>\n",
       "      <td>2023-07-19</td>\n",
       "    </tr>\n",
       "    <tr>\n",
       "      <th>8</th>\n",
       "      <td>1009</td>\n",
       "      <td>Headphones</td>\n",
       "      <td>C009</td>\n",
       "      <td>Frankfurt</td>\n",
       "      <td>160</td>\n",
       "      <td>3</td>\n",
       "      <td>2023-08-05</td>\n",
       "    </tr>\n",
       "    <tr>\n",
       "      <th>9</th>\n",
       "      <td>1010</td>\n",
       "      <td>Phone</td>\n",
       "      <td>C010</td>\n",
       "      <td>Berlin</td>\n",
       "      <td>750</td>\n",
       "      <td>1</td>\n",
       "      <td>2023-09-10</td>\n",
       "    </tr>\n",
       "  </tbody>\n",
       "</table>\n",
       "</div>"
      ],
      "text/plain": [
       "   OrderID     Product CustomerID     Region  SalesAmount  Quantity  \\\n",
       "0     1001      Laptop       C001     Berlin         1200         1   \n",
       "1     1002       Phone       C002     Munich          800         2   \n",
       "2     1003      Tablet       C003    Hamburg          600         1   \n",
       "3     1004  Headphones       C004     Berlin          150         3   \n",
       "4     1005      Laptop       C005  Frankfurt         1300         1   \n",
       "5     1006       Phone       C006     Munich          850         2   \n",
       "6     1007      Tablet       C007     Berlin          620         1   \n",
       "7     1008      Laptop       C008    Hamburg         1400         1   \n",
       "8     1009  Headphones       C009  Frankfurt          160         3   \n",
       "9     1010       Phone       C010     Berlin          750         1   \n",
       "\n",
       "    OrderDate  \n",
       "0  2023-01-15  \n",
       "1  2023-02-20  \n",
       "2  2023-03-10  \n",
       "3  2023-03-25  \n",
       "4  2023-04-05  \n",
       "5  2023-05-12  \n",
       "6  2023-06-14  \n",
       "7  2023-07-19  \n",
       "8  2023-08-05  \n",
       "9  2023-09-10  "
      ]
     },
     "execution_count": 9,
     "metadata": {},
     "output_type": "execute_result"
    }
   ],
   "source": [
    "sales_df.head(10)"
   ]
  },
  {
   "cell_type": "code",
   "execution_count": 11,
   "id": "c620f76e-c102-4944-8254-31f52f04d1fd",
   "metadata": {},
   "outputs": [
    {
     "name": "stdout",
     "output_type": "stream",
     "text": [
      "<class 'pandas.core.frame.DataFrame'>\n",
      "RangeIndex: 10 entries, 0 to 9\n",
      "Data columns (total 6 columns):\n",
      " #   Column      Non-Null Count  Dtype \n",
      "---  ------      --------------  ----- \n",
      " 0   ReviewID    10 non-null     object\n",
      " 1   CustomerID  10 non-null     object\n",
      " 2   Product     10 non-null     object\n",
      " 3   Rating      10 non-null     int64 \n",
      " 4   ReviewText  10 non-null     object\n",
      " 5   ReviewDate  10 non-null     object\n",
      "dtypes: int64(1), object(5)\n",
      "memory usage: 612.0+ bytes\n"
     ]
    }
   ],
   "source": [
    "reviews_df.info()"
   ]
  },
  {
   "cell_type": "code",
   "execution_count": 13,
   "id": "35f50fa5-8a2e-4607-a147-1ee5ec26061b",
   "metadata": {},
   "outputs": [
    {
     "data": {
      "text/html": [
       "<div>\n",
       "<style scoped>\n",
       "    .dataframe tbody tr th:only-of-type {\n",
       "        vertical-align: middle;\n",
       "    }\n",
       "\n",
       "    .dataframe tbody tr th {\n",
       "        vertical-align: top;\n",
       "    }\n",
       "\n",
       "    .dataframe thead th {\n",
       "        text-align: right;\n",
       "    }\n",
       "</style>\n",
       "<table border=\"1\" class=\"dataframe\">\n",
       "  <thead>\n",
       "    <tr style=\"text-align: right;\">\n",
       "      <th></th>\n",
       "      <th>ReviewID</th>\n",
       "      <th>CustomerID</th>\n",
       "      <th>Product</th>\n",
       "      <th>Rating</th>\n",
       "      <th>ReviewText</th>\n",
       "      <th>ReviewDate</th>\n",
       "    </tr>\n",
       "  </thead>\n",
       "  <tbody>\n",
       "    <tr>\n",
       "      <th>0</th>\n",
       "      <td>R001</td>\n",
       "      <td>C001</td>\n",
       "      <td>Laptop</td>\n",
       "      <td>5</td>\n",
       "      <td>Amazing performance!</td>\n",
       "      <td>2023-01-16</td>\n",
       "    </tr>\n",
       "    <tr>\n",
       "      <th>1</th>\n",
       "      <td>R002</td>\n",
       "      <td>C002</td>\n",
       "      <td>Phone</td>\n",
       "      <td>4</td>\n",
       "      <td>Good but battery is weak.</td>\n",
       "      <td>2023-02-21</td>\n",
       "    </tr>\n",
       "    <tr>\n",
       "      <th>2</th>\n",
       "      <td>R003</td>\n",
       "      <td>C003</td>\n",
       "      <td>Tablet</td>\n",
       "      <td>3</td>\n",
       "      <td>Decent for the price.</td>\n",
       "      <td>2023-03-11</td>\n",
       "    </tr>\n",
       "    <tr>\n",
       "      <th>3</th>\n",
       "      <td>R004</td>\n",
       "      <td>C004</td>\n",
       "      <td>Headphones</td>\n",
       "      <td>5</td>\n",
       "      <td>Sound quality is great.</td>\n",
       "      <td>2023-03-26</td>\n",
       "    </tr>\n",
       "    <tr>\n",
       "      <th>4</th>\n",
       "      <td>R005</td>\n",
       "      <td>C005</td>\n",
       "      <td>Laptop</td>\n",
       "      <td>4</td>\n",
       "      <td>Very fast but expensive.</td>\n",
       "      <td>2023-04-06</td>\n",
       "    </tr>\n",
       "  </tbody>\n",
       "</table>\n",
       "</div>"
      ],
      "text/plain": [
       "  ReviewID CustomerID     Product  Rating                 ReviewText  \\\n",
       "0     R001       C001      Laptop       5       Amazing performance!   \n",
       "1     R002       C002       Phone       4  Good but battery is weak.   \n",
       "2     R003       C003      Tablet       3      Decent for the price.   \n",
       "3     R004       C004  Headphones       5    Sound quality is great.   \n",
       "4     R005       C005      Laptop       4   Very fast but expensive.   \n",
       "\n",
       "   ReviewDate  \n",
       "0  2023-01-16  \n",
       "1  2023-02-21  \n",
       "2  2023-03-11  \n",
       "3  2023-03-26  \n",
       "4  2023-04-06  "
      ]
     },
     "execution_count": 13,
     "metadata": {},
     "output_type": "execute_result"
    }
   ],
   "source": [
    "reviews_df.head(5)"
   ]
  },
  {
   "cell_type": "code",
   "execution_count": 16,
   "id": "4da00b47-76f8-41d3-b3e6-cc6cbaa18160",
   "metadata": {},
   "outputs": [
    {
     "name": "stdout",
     "output_type": "stream",
     "text": [
      "   OrderID     Product CustomerID     Region  SalesAmount  Quantity  \\\n",
      "0     1001      Laptop       C001     Berlin         1200         1   \n",
      "1     1002       Phone       C002     Munich          800         2   \n",
      "2     1003      Tablet       C003    Hamburg          600         1   \n",
      "3     1004  Headphones       C004     Berlin          150         3   \n",
      "4     1005      Laptop       C005  Frankfurt         1300         1   \n",
      "\n",
      "    OrderDate  \n",
      "0  2023-01-15  \n",
      "1  2023-02-20  \n",
      "2  2023-03-10  \n",
      "3  2023-03-25  \n",
      "4  2023-04-05  \n"
     ]
    }
   ],
   "source": [
    "print(sales_df.head())"
   ]
  },
  {
   "cell_type": "code",
   "execution_count": 22,
   "id": "bdd499f3-2ea1-4bd7-a967-b70c46fc1a0b",
   "metadata": {},
   "outputs": [
    {
     "name": "stdout",
     "output_type": "stream",
     "text": [
      "  ReviewID CustomerID     Product  Rating                 ReviewText  \\\n",
      "0     R001       C001      Laptop       5       Amazing performance!   \n",
      "1     R002       C002       Phone       4  Good but battery is weak.   \n",
      "2     R003       C003      Tablet       3      Decent for the price.   \n",
      "3     R004       C004  Headphones       5    Sound quality is great.   \n",
      "4     R005       C005      Laptop       4   Very fast but expensive.   \n",
      "\n",
      "   ReviewDate  \n",
      "0  2023-01-16  \n",
      "1  2023-02-21  \n",
      "2  2023-03-11  \n",
      "3  2023-03-26  \n",
      "4  2023-04-06  \n"
     ]
    }
   ],
   "source": [
    "print(reviews_df.head())"
   ]
  },
  {
   "cell_type": "code",
   "execution_count": 24,
   "id": "c93ce7a6-f6f6-412d-8af3-6b9f82b18f75",
   "metadata": {},
   "outputs": [],
   "source": [
    "conn = sqlite3.connect(\"ecommerce.db\")\n",
    "cursor = conn.cursor()"
   ]
  },
  {
   "cell_type": "code",
   "execution_count": 26,
   "id": "677c3716-875e-4d4d-8152-547ae09e021e",
   "metadata": {},
   "outputs": [],
   "source": [
    "# Create sales_table and review_table\n",
    "cursor.execute(\"\"\"\n",
    "CREATE TABLE IF NOT EXISTS sales(\n",
    "    OrderID INTEGER PRIMARY KEY,\n",
    "    Product TEXT,\n",
    "    CustomerID TEXT,\n",
    "    Region TEXT,\n",
    "    SalesAmount INTEGER,\n",
    "    Quantity INTEGER,\n",
    "    OrderDate DATE\n",
    ")\"\"\")\n",
    "cursor.execute(\"\"\"\n",
    "CREATE TABLE IF NOT EXISTS reviews (\n",
    "    reviewID Text primary key,\n",
    "    CustomerID TEXT,\n",
    "    Product TEXT,\n",
    "    Rating INTEGER,\n",
    "    ReviewText TEXT,\n",
    "    REviewDate DATE\n",
    "    )\"\"\")\n",
    "\n",
    "conn.commit()\n",
    "    "
   ]
  },
  {
   "cell_type": "code",
   "execution_count": 28,
   "id": "0d5b88b5-76c0-432e-ac26-f0f1be692a62",
   "metadata": {},
   "outputs": [
    {
     "data": {
      "text/plain": [
       "10"
      ]
     },
     "execution_count": 28,
     "metadata": {},
     "output_type": "execute_result"
    }
   ],
   "source": [
    "# insert CSV Data into SQL Database\n",
    "sales_df.to_sql(\"sales\", conn, if_exists=\"replace\", index=False)\n",
    "reviews_df.to_sql(\"reviews\", conn, if_exists=\"replace\", index=False)"
   ]
  },
  {
   "cell_type": "code",
   "execution_count": 30,
   "id": "352ad2be-fc85-42b7-87c2-5be75a06144c",
   "metadata": {},
   "outputs": [
    {
     "data": {
      "text/plain": [
       "10"
      ]
     },
     "execution_count": 30,
     "metadata": {},
     "output_type": "execute_result"
    }
   ],
   "source": [
    "sales_df.to_sql(\"sales\", conn, if_exists=\"replace\", index=False)"
   ]
  },
  {
   "cell_type": "code",
   "execution_count": 32,
   "id": "9c470b9b-512c-4012-8ce4-2e76d409b403",
   "metadata": {},
   "outputs": [
    {
     "data": {
      "text/plain": [
       "10"
      ]
     },
     "execution_count": 32,
     "metadata": {},
     "output_type": "execute_result"
    }
   ],
   "source": [
    "reviews_df.to_sql(\"reviews\", conn, if_exists=\"replace\", index=False)"
   ]
  },
  {
   "cell_type": "code",
   "execution_count": 60,
   "id": "ed913fad-45dc-4003-998a-892455a97547",
   "metadata": {},
   "outputs": [
    {
     "name": "stdout",
     "output_type": "stream",
     "text": [
      "      Product  TotalSales\n",
      "0  Headphones         310\n",
      "1      Laptop        3900\n",
      "2       Phone        2400\n",
      "3      Tablet        1220\n"
     ]
    }
   ],
   "source": [
    "# SQL queries for analysis\n",
    "# Find total sales by product\n",
    "query = \"SELECT Product, SUM(SalesAmount) as TotalSales FROM sales GROUP BY Product\"\n",
    "df = pd.read_sql(query, conn)\n",
    "print(df)"
   ]
  },
  {
   "cell_type": "code",
   "execution_count": 39,
   "id": "db8e6516-c46f-4165-b1ff-d25cce463a31",
   "metadata": {},
   "outputs": [
    {
     "name": "stdout",
     "output_type": "stream",
     "text": [
      "      Product  AVGRating\n",
      "0  Headphones   3.500000\n",
      "1      Laptop   4.666667\n",
      "2       Phone   3.666667\n",
      "3      Tablet   3.500000\n"
     ]
    }
   ],
   "source": [
    "# Find average rating per product\n",
    "query = \"SELECT Product, AVG(Rating) as AVGRating FROM reviews GROUP BY Product\"\n",
    "df = pd.read_sql(query, conn)\n",
    "print(df)"
   ]
  },
  {
   "cell_type": "code",
   "execution_count": 52,
   "id": "b5eb64c2-c204-4efc-97c3-5c9de6db954e",
   "metadata": {},
   "outputs": [
    {
     "name": "stdout",
     "output_type": "stream",
     "text": [
      "Index(['OrderID', 'Product', 'CustomerID', 'Region', 'SalesAmount', 'Quantity',\n",
      "       'OrderDate'],\n",
      "      dtype='object')\n"
     ]
    }
   ],
   "source": [
    "print(sales_df.columns)"
   ]
  },
  {
   "cell_type": "code",
   "execution_count": 56,
   "id": "5402714e-c603-4672-90e9-3c6daf437f41",
   "metadata": {},
   "outputs": [
    {
     "name": "stdout",
     "output_type": "stream",
     "text": [
      "   OrderID     Product CustomerID     Region  SalesAmount  Quantity  \\\n",
      "0     1001      Laptop       C001     Berlin         1200         1   \n",
      "1     1002       Phone       C002     Munich          800         2   \n",
      "2     1003      Tablet       C003    Hamburg          600         1   \n",
      "3     1004  Headphones       C004     Berlin          150         3   \n",
      "4     1005      Laptop       C005  Frankfurt         1300         1   \n",
      "\n",
      "    OrderDate  \n",
      "0  2023-01-15  \n",
      "1  2023-02-20  \n",
      "2  2023-03-10  \n",
      "3  2023-03-25  \n",
      "4  2023-04-05  \n"
     ]
    }
   ],
   "source": [
    "print(sales_df.head(5))"
   ]
  },
  {
   "cell_type": "code",
   "execution_count": 64,
   "id": "0343c78e-2eab-4664-b74d-5f65134ddf9c",
   "metadata": {},
   "outputs": [
    {
     "name": "stderr",
     "output_type": "stream",
     "text": [
      "/var/folders/90/2r4xf5bx4csg7znn760tg7040000gn/T/ipykernel_66824/2467590724.py:9: FutureWarning: \n",
      "\n",
      "Passing `palette` without assigning `hue` is deprecated and will be removed in v0.14.0. Assign the `x` variable to `hue` and set `legend=False` for the same effect.\n",
      "\n",
      "  sns.barplot(x=\"Product\", y=\"TotalSales\", data=df, palette=\"viridis\")\n"
     ]
    },
    {
     "data": {
      "image/png": "[encoded data removed]",
      "text/plain": [
       "<Figure size 800x500 with 1 Axes>"
      ]
     },
     "metadata": {},
     "output_type": "display_data"
    }
   ],
   "source": [
    "# Data visualisation\n",
    "# Sales Distribution by products\n",
    "df = pd.DataFrame({\n",
    "    \"Product\": [\"Headphones\", \"Laptop\", \"Phone\", \"Tablet\"],\n",
    "    \"AVGRating\": [3.5, 3.6, 3.7, 3.5],  # Your existing data\n",
    "    \"TotalSales\": [5000, 7000, 6500, 4000]  # Manually added column\n",
    "})\n",
    "\n",
    "# Data Visualization\n",
    "plt.figure(figsize=(8,5))\n",
    "sns.barplot(x=\"Product\", y=\"TotalSales\", data=df, palette=\"viridis\")\n",
    "plt.title(\"Total Sales by Product\")\n",
    "plt.show()"
   ]
  },
  {
   "cell_type": "code",
   "execution_count": 66,
   "id": "57a4ba60-daba-44d8-905a-8bb9323a5387",
   "metadata": {},
   "outputs": [
    {
     "name": "stderr",
     "output_type": "stream",
     "text": [
      "/var/folders/90/2r4xf5bx4csg7znn760tg7040000gn/T/ipykernel_66824/609923615.py:5: FutureWarning: \n",
      "\n",
      "Passing `palette` without assigning `hue` is deprecated and will be removed in v0.14.0. Assign the `x` variable to `hue` and set `legend=False` for the same effect.\n",
      "\n",
      "  sns.barplot(x=\"Product\", y=\"AvgRating\", data=df, palette=\"coolwarm\")\n"
     ]
    },
    {
     "data": {
      "image/png": "[encoded data removed]",
      "text/plain": [
       "<Figure size 800x500 with 1 Axes>"
      ]
     },
     "metadata": {},
     "output_type": "display_data"
    }
   ],
   "source": [
    "query = \"SELECT Product, AVG(Rating) as AvgRating FROM reviews GROUP BY Product\"  \n",
    "df = pd.read_sql(query, conn)  \n",
    "\n",
    "plt.figure(figsize=(8,5))  \n",
    "sns.barplot(x=\"Product\", y=\"AvgRating\", data=df, palette=\"coolwarm\")  \n",
    "plt.title(\"Average Rating by Product\")  \n",
    "plt.show()"
   ]
  },
  {
   "cell_type": "code",
   "execution_count": null,
   "id": "eb015b43-36df-4aaa-a874-15d8f96a6fcc",
   "metadata": {},
   "outputs": [],
   "source": []
  }
 ],
 "metadata": {
  "kernelspec": {
   "display_name": "Python [conda env:base] *",
   "language": "python",
   "name": "conda-base-py"
  },
  "language_info": {
   "codemirror_mode": {
    "name": "ipython",
    "version": 3
   },
   "file_extension": ".py",
   "mimetype": "text/x-python",
   "name": "python",
   "nbconvert_exporter": "python",
   "pygments_lexer": "ipython3",
   "version": "3.12.7"
  }
 },
 "nbformat": 4,
 "nbformat_minor": 5
}
